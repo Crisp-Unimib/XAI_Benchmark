{
 "cells": [
  {
   "cell_type": "code",
   "execution_count": 15,
   "metadata": {},
   "outputs": [],
   "source": [
    "# !pip install anchor-exp\n",
    "# !python -m spacy download en_core_web_lg\n",
    "\n",
    "# # if you want to use BERT to perturb inputs (recommended), also install transformers:\n",
    "# !pip install torch transformers spacy && python -m spacy download en_core_web_sm"
   ]
  },
  {
   "cell_type": "code",
   "execution_count": 1,
   "metadata": {},
   "outputs": [],
   "source": [
    "\n",
    "%load_ext autoreload\n",
    "%autoreload 2\n",
    "import os\n",
    "import os.path\n",
    "import numpy as np\n",
    "import sklearn\n",
    "import sklearn.model_selection\n",
    "import sklearn.linear_model\n",
    "import sklearn.ensemble\n",
    "import spacy\n",
    "import sys\n",
    "from sklearn.feature_extraction.text import CountVectorizer\n",
    "from anchor import anchor_text\n",
    "import time"
   ]
  },
  {
   "cell_type": "code",
   "execution_count": 2,
   "metadata": {},
   "outputs": [],
   "source": [
    "nlp = spacy.load('en_core_web_sm')"
   ]
  },
  {
   "cell_type": "code",
   "execution_count": 16,
   "metadata": {},
   "outputs": [],
   "source": [
    "# load data\n",
    "import pickle\n",
    "import joblib\n",
    "import pandas as pd\n",
    "from sklearn.feature_extraction.text import CountVectorizer\n",
    "\n",
    "n_features = 10000\n",
    "\n",
    "# import  and vectorize data\n",
    "df = pd.read_csv('data/imdb.csv')\n",
    "\n",
    "data = df.text\n",
    "labels = df.target\n",
    "\n",
    "vectorizer = CountVectorizer(min_df=1, max_features=n_features, binary=True)\n",
    "vectorizer.fit(data)\n",
    "\n",
    "# load the classifier params\n",
    "\n",
    "model_params_filename = 'models/predictions/svc_imdb_' + \\\n",
    "    str(n_features) + '.sav'\n",
    "classifier = pickle.load(open(model_params_filename, 'rb'))\n",
    "\n",
    "vectorizer_filename = f'models/vectorizer/vectorizer_imdb_{str(n_features)}.pkl'\n",
    "with open(vectorizer_filename, 'rb') as file:\n",
    "    vectorizer = pickle.load(file)"
   ]
  },
  {
   "cell_type": "code",
   "execution_count": 4,
   "metadata": {},
   "outputs": [],
   "source": [
    "from data import Imdb\n",
    "imdb = Imdb(n_features=n_features)"
   ]
  },
  {
   "cell_type": "code",
   "execution_count": 17,
   "metadata": {},
   "outputs": [],
   "source": [
    "def predict_lr(texts):\n",
    "    return imdb.model.predict(vectorizer.transform(texts))"
   ]
  },
  {
   "cell_type": "code",
   "execution_count": null,
   "metadata": {},
   "outputs": [],
   "source": []
  },
  {
   "cell_type": "code",
   "execution_count": 18,
   "metadata": {},
   "outputs": [
    {
     "name": "stdout",
     "output_type": "stream",
     "text": [
      "Prediction: positive\n",
      "Time: 0.09473586082458496\n",
      "Anchor: gem\n"
     ]
    }
   ],
   "source": [
    "explainer = anchor_text.AnchorText(\n",
    "    nlp, ['negative', 'positive'], use_unk_distribution=True)\n",
    "\n",
    "np.random.seed(1)\n",
    "\n",
    "text = data.iloc[0]\n",
    "\n",
    "# text = 'this is a good book'\n",
    "\n",
    "\n",
    "\n",
    "pred = explainer.class_names[predict_lr([text])[0]]\n",
    "\n",
    "alternative = explainer.class_names[1 - predict_lr([text])[0]]\n",
    "\n",
    "print('Prediction: %s' % pred)\n",
    "\n",
    "b = time.time()\n",
    "exp = explainer.explain_instance(\n",
    "\n",
    "    text, predict_lr, threshold=0.95, verbose=False, onepass=True)\n",
    "\n",
    "print('Time: %s' % (time.time() - b))\n",
    "print('Anchor: %s' % (' AND '.join(exp.names())))"
   ]
  },
  {
   "cell_type": "code",
   "execution_count": 65,
   "metadata": {},
   "outputs": [
    {
     "name": "stdout",
     "output_type": "stream",
     "text": [
      "Anchor: say AND played\n",
      "Precision: 0.97\n",
      "\n",
      "Examples where anchor applies and model predicts positive:\n",
      "\n",
      "first UNK UNK UNK six UNK love first game UNK UNK loved UNK UNK time good plot great courses best UNK heard nintendo game remember UNK UNK think UNK UNK kidnapped bowser UNK UNK UNK game UNK UNK curses UNK five UNK challnges UNK stars secert parts UNK UNK stars UNK UNK bowser UNK three levels beat bowser UNK start UNK UNK UNK character gets UNK UNK toad basically UNK alliances heard UNK yoshi game towards end main villain bowser bunch UNK like boo goomba characters really great UNK UNK people say gameplay important UNK UNK UNK great plot UNK graphics UNK UNK whole bunch nintendo UNK UNK graphics UNK super mario bright colors great effects awesome UNK UNK found UNK water UNK UNK UNK UNK UNK UNK best UNK game music favorite part UNK UNK played young age gladly UNK game UNK music would put sleep especially UNK jolly UNK UNK UNK UNK others UNK especially UNK UNK ones stick favorites UNK UNK UNK UNK UNK gamer love UNK gets UNK play \n",
      "UNK UNK UNK UNK six fell UNK UNK game UNK mario UNK UNK great UNK good UNK UNK courses UNK music UNK UNK UNK UNK plot completely UNK princess UNK UNK bowser UNK UNK UNK UNK get UNK curses UNK UNK six challnges UNK stars secert UNK UNK UNK UNK course beat UNK UNK three UNK beat UNK lets start characters mario UNK UNK gets UNK advice toad basically one UNK heard UNK UNK game towards UNK UNK UNK bowser UNK characters UNK boo UNK characters really UNK UNK UNK UNK say gameplay UNK graphics UNK completely UNK plot UNK graphics UNK UNK whole UNK nintendo UNK like UNK compare super UNK bright UNK UNK effects awesome UNK UNK found graphics UNK UNK UNK next UNK UNK ones best UNK UNK UNK favorite part game UNK played UNK UNK UNK leave game UNK music UNK put sleep UNK UNK UNK UNK bay UNK wonderful others great UNK worlds bowser UNK UNK UNK game UNK past time UNK gamer UNK UNK UNK UNK UNK UNK\n",
      "UNK UNK n five six UNK love first game UNK mario loved graphics UNK time good UNK great UNK UNK music heard nintendo UNK UNK plot completely UNK UNK peach kidnapped bowser mario UNK UNK UNK get stars curses UNK UNK six challnges get UNK secert parts UNK get stars UNK beat UNK think three levels beat bowser UNK start characters UNK UNK character gets UNK UNK toad UNK one alliances heard luigi yoshi UNK towards UNK main UNK UNK bunch characters like UNK UNK characters really great UNK UNK people say gameplay UNK graphics UNK completely great UNK UNK UNK UNK UNK UNK bunch UNK games like UNK compare UNK mario UNK colors great effects awesome UNK UNK UNK graphics water UNK UNK UNK bowser UNK ones best UNK game music UNK part game growing played young age UNK UNK game UNK music UNK put UNK UNK music jolly UNK UNK UNK wonderful others great UNK worlds UNK ones UNK UNK UNK favorite past UNK UNK gamer UNK game gets UNK UNK game\n",
      "first got UNK five six UNK UNK first UNK super mario loved UNK great time good plot great courses UNK UNK heard nintendo UNK remember UNK UNK think princess UNK kidnapped UNK UNK rescue UNK UNK UNK stars UNK castle five six UNK UNK stars UNK UNK castle get stars UNK beat UNK think three levels beat UNK lets start characters mario main UNK UNK helpful advice toad basically UNK alliances heard UNK yoshi UNK UNK end UNK UNK bowser bunch UNK UNK boo goomba characters UNK UNK UNK graphics people say UNK important graphics agree UNK UNK plot UNK UNK UNK time whole bunch nintendo UNK like graphics UNK super UNK UNK UNK great UNK UNK sound effects UNK graphics water UNK UNK next bowser UNK UNK UNK UNK game music UNK UNK game growing played UNK UNK gladly UNK UNK night music UNK put sleep especially music jolly roger UNK peaceful UNK others great especially worlds bowser UNK stick favorites UNK UNK UNK UNK developing UNK UNK UNK UNK go \n",
      "UNK UNK n five UNK fell love UNK UNK UNK mario loved graphics UNK UNK UNK plot great UNK best music heard UNK UNK UNK UNK UNK UNK princess UNK kidnapped bowser mario rescue object game get stars curses UNK UNK six challnges UNK stars UNK parts UNK UNK UNK UNK beat bowser UNK UNK levels UNK UNK UNK start UNK UNK UNK character UNK UNK advice toad basically one UNK heard UNK yoshi game UNK end UNK UNK bowser UNK UNK UNK boo goomba characters UNK UNK UNK graphics people say UNK UNK graphics UNK completely great plot great UNK UNK UNK whole UNK UNK games like UNK compare super UNK bright colors great UNK UNK UNK UNK found graphics water courses UNK UNK bowser UNK ones best graphics game UNK UNK UNK UNK growing played young UNK UNK UNK game UNK UNK would UNK UNK UNK music UNK UNK UNK UNK wonderful others UNK especially worlds bowser UNK stick favorites UNK UNK past UNK UNK UNK UNK game UNK go play UNK\n",
      "UNK got n five UNK UNK UNK first game super UNK loved graphics great time good plot great courses UNK music heard nintendo UNK remember plot UNK think princess UNK UNK bowser UNK rescue UNK UNK UNK UNK curses castle UNK six challnges UNK stars UNK UNK castle UNK UNK UNK UNK UNK UNK UNK levels beat bowser UNK UNK UNK mario main UNK gets UNK UNK UNK basically one alliances UNK luigi UNK UNK towards end UNK UNK bowser UNK characters UNK UNK goomba characters UNK UNK UNK graphics UNK say gameplay important UNK UNK UNK UNK UNK UNK UNK especially UNK whole bunch nintendo UNK like UNK UNK UNK mario bright UNK UNK effects UNK UNK UNK found graphics water courses good next bowser UNK UNK best graphics UNK UNK UNK part game UNK played UNK UNK UNK UNK game night music would UNK UNK especially UNK UNK UNK bay peaceful wonderful UNK UNK UNK worlds UNK UNK UNK favorites game UNK UNK time UNK UNK love UNK gets UNK UNK UNK\n",
      "UNK got n five UNK UNK love UNK UNK UNK mario loved graphics UNK UNK good plot UNK UNK best UNK UNK UNK game remember UNK completely think princess peach kidnapped bowser UNK rescue object UNK UNK stars curses castle UNK six challnges UNK stars secert parts UNK UNK stars UNK beat bowser UNK UNK levels beat bowser lets UNK characters mario UNK character gets UNK advice UNK basically UNK UNK UNK luigi UNK game UNK UNK UNK UNK UNK bunch characters like UNK goomba UNK really great next UNK UNK say gameplay important graphics UNK completely great UNK great UNK UNK time whole bunch UNK games like UNK UNK super mario UNK colors great UNK UNK UNK effects UNK graphics water courses UNK next bowser UNK ones best UNK UNK music favorite UNK UNK growing played UNK UNK gladly leave game night music would put sleep especially music UNK roger UNK UNK UNK UNK UNK UNK worlds bowser ones stick UNK UNK favorite UNK UNK developing UNK UNK UNK UNK g\n",
      "UNK UNK UNK five UNK fell love first game UNK mario UNK UNK great time good UNK UNK courses UNK music UNK nintendo game remember plot completely UNK UNK UNK kidnapped UNK UNK rescue UNK game get UNK UNK castle five six UNK UNK stars UNK UNK UNK get stars course UNK bowser UNK three levels UNK UNK lets start UNK UNK main UNK UNK UNK UNK UNK UNK UNK alliances heard UNK UNK UNK UNK end UNK UNK UNK bunch UNK UNK UNK goomba UNK UNK UNK next graphics UNK say UNK UNK graphics UNK completely UNK plot great graphics UNK UNK UNK bunch nintendo UNK like graphics compare UNK mario bright UNK UNK UNK awesome sound effects UNK graphics water UNK good next UNK world UNK best UNK game UNK favorite UNK UNK growing played young UNK gladly leave game UNK UNK UNK put UNK especially music jolly roger UNK peaceful UNK others great especially worlds UNK UNK UNK favorites game UNK past time developing UNK UNK game gets UNK UNK UNK\n",
      "UNK got n five six UNK UNK UNK UNK super mario loved UNK great UNK UNK UNK great courses UNK UNK UNK nintendo UNK UNK UNK completely UNK princess peach UNK UNK UNK UNK object game get UNK UNK castle UNK six UNK UNK stars UNK parts UNK UNK stars UNK beat UNK UNK UNK levels beat bowser lets start UNK mario main character UNK UNK advice toad UNK UNK UNK heard luigi UNK game UNK end UNK UNK UNK bunch UNK like UNK UNK characters UNK great UNK UNK people say gameplay important UNK agree UNK UNK plot great graphics especially UNK whole UNK UNK games like graphics UNK super mario bright colors UNK UNK awesome UNK UNK found graphics UNK courses good next bowser world UNK best graphics game music favorite part UNK UNK played UNK UNK gladly leave UNK night music would UNK UNK UNK music jolly roger UNK peaceful UNK UNK UNK UNK UNK bowser ones UNK UNK UNK favorite UNK UNK developing UNK love game gets go play UNK\n",
      "UNK UNK n five six fell UNK first game UNK UNK UNK UNK great UNK UNK plot great courses best UNK UNK nintendo UNK remember plot completely UNK princess peach kidnapped UNK mario UNK object game UNK UNK UNK UNK UNK six UNK UNK stars UNK parts castle get UNK UNK UNK bowser think three UNK UNK UNK UNK UNK UNK UNK main UNK gets UNK UNK toad basically one UNK heard UNK yoshi UNK towards end main villain bowser UNK UNK UNK boo UNK UNK really great next UNK people say UNK important UNK agree UNK great plot UNK UNK especially UNK whole UNK UNK UNK like graphics compare super mario UNK colors great UNK UNK UNK UNK found graphics UNK UNK good UNK bowser UNK UNK UNK graphics UNK UNK favorite part game growing played young age UNK UNK game night music would UNK sleep especially UNK jolly roger bay peaceful wonderful UNK great especially worlds UNK UNK UNK favorites game UNK past UNK UNK gamer UNK UNK gets go play game\n",
      "\n",
      "Examples where anchor applies and model predicts negative:\n",
      "\n",
      "UNK got UNK five UNK fell love first UNK UNK UNK UNK UNK UNK time good UNK UNK UNK best music UNK UNK UNK UNK UNK completely think UNK peach UNK UNK mario rescue object game get UNK UNK UNK five six UNK UNK UNK UNK parts UNK UNK stars UNK UNK UNK think UNK UNK beat bowser UNK UNK UNK mario UNK character gets UNK UNK UNK basically UNK alliances UNK luigi UNK game towards end UNK UNK bowser bunch UNK like UNK UNK characters UNK UNK next UNK UNK say gameplay important UNK UNK completely great UNK UNK UNK UNK time whole bunch UNK games like graphics compare UNK UNK bright colors great UNK UNK UNK effects found UNK UNK UNK good UNK bowser world UNK UNK graphics game music favorite UNK game UNK played young age UNK leave game night music UNK put UNK UNK UNK jolly roger bay UNK wonderful UNK UNK especially UNK UNK UNK stick favorites UNK UNK past UNK UNK gamer UNK UNK gets go UNK UNK\n",
      "first UNK n UNK six fell love first game UNK UNK loved graphics UNK time good plot UNK UNK best UNK UNK UNK game UNK UNK UNK UNK princess UNK UNK bowser UNK UNK object UNK UNK stars UNK UNK five six challnges get stars UNK parts UNK get stars UNK UNK UNK UNK three levels beat UNK lets UNK characters UNK UNK character gets helpful advice toad basically UNK UNK UNK luigi UNK UNK UNK UNK UNK villain bowser UNK UNK UNK boo goomba characters really great UNK graphics UNK say UNK UNK UNK agree UNK UNK plot great graphics UNK time UNK bunch UNK games like UNK UNK super UNK bright UNK UNK UNK awesome UNK effects found graphics water courses good next UNK world UNK UNK graphics game music favorite UNK UNK growing played UNK age UNK UNK UNK night music would UNK sleep UNK UNK jolly UNK UNK UNK wonderful others great especially UNK bowser ones stick UNK UNK UNK UNK time UNK gamer love UNK gets go UNK UNK\n",
      "first UNK n five six fell love first UNK super UNK UNK graphics UNK UNK good plot UNK courses best music UNK UNK UNK UNK UNK UNK UNK UNK UNK kidnapped bowser mario UNK object UNK UNK UNK curses UNK five six challnges get stars UNK UNK UNK UNK stars UNK UNK bowser UNK UNK levels beat bowser UNK start characters mario UNK character gets helpful UNK toad basically one alliances UNK luigi yoshi game UNK UNK main villain UNK UNK UNK like boo goomba UNK really UNK next graphics people say gameplay UNK UNK UNK completely great UNK great UNK especially UNK UNK bunch nintendo games UNK UNK UNK super UNK bright UNK UNK UNK UNK UNK UNK found graphics water courses good next UNK world ones UNK graphics game UNK favorite UNK game UNK played UNK age UNK UNK game night music would put sleep UNK UNK UNK roger bay peaceful UNK UNK UNK UNK worlds UNK UNK stick favorites game UNK UNK UNK UNK UNK UNK game gets UNK play game\n",
      "first got n UNK UNK fell UNK UNK game UNK mario loved UNK UNK UNK UNK plot UNK courses UNK UNK UNK nintendo game UNK UNK completely UNK UNK UNK UNK bowser mario UNK object game get UNK UNK UNK five six challnges get stars UNK UNK UNK get stars UNK beat bowser UNK UNK UNK beat bowser lets UNK characters mario UNK UNK UNK UNK advice toad basically one alliances UNK UNK UNK game towards UNK UNK villain UNK UNK characters like boo goomba characters really UNK next graphics UNK say gameplay important graphics agree completely great plot UNK graphics especially UNK whole UNK UNK games like graphics UNK super mario UNK colors great effects awesome UNK effects found UNK UNK courses UNK UNK UNK world UNK best UNK UNK music UNK part game UNK played UNK age UNK UNK game UNK UNK UNK put sleep especially music UNK roger UNK peaceful wonderful UNK UNK especially worlds bowser ones stick UNK UNK favorite past UNK UNK gamer love game UNK UNK p\n",
      "UNK UNK UNK five UNK UNK love first UNK UNK mario UNK graphics UNK time UNK UNK UNK UNK UNK UNK UNK nintendo game remember plot UNK think princess UNK UNK bowser UNK rescue object game UNK stars UNK castle five six UNK get UNK secert UNK UNK UNK stars UNK beat bowser think UNK UNK beat UNK UNK UNK UNK mario UNK UNK gets UNK advice UNK UNK UNK alliances UNK UNK UNK game UNK UNK UNK UNK bowser bunch characters like boo UNK UNK really UNK UNK graphics UNK say gameplay important graphics agree UNK UNK plot UNK UNK UNK time UNK bunch UNK UNK UNK UNK compare UNK mario bright UNK great UNK awesome sound UNK found UNK water UNK UNK UNK bowser UNK UNK UNK UNK UNK UNK favorite UNK UNK UNK played young age UNK leave game UNK music would UNK UNK UNK music jolly roger bay UNK wonderful others great especially worlds bowser UNK UNK favorites game favorite past UNK developing UNK UNK game UNK go UNK game\n",
      "UNK got n five UNK UNK UNK UNK UNK UNK UNK loved UNK UNK time good UNK UNK UNK UNK music heard UNK game UNK UNK completely UNK UNK UNK kidnapped UNK mario rescue object UNK get stars curses castle five six UNK get UNK UNK UNK UNK UNK UNK course beat bowser UNK three levels UNK bowser lets UNK UNK UNK UNK UNK UNK UNK advice UNK UNK UNK alliances heard UNK UNK game towards UNK UNK UNK UNK bunch characters like boo goomba UNK really great UNK graphics UNK say gameplay important graphics UNK UNK UNK UNK UNK UNK UNK time UNK bunch UNK UNK UNK UNK UNK UNK mario UNK UNK great effects awesome sound UNK UNK UNK water UNK good UNK UNK UNK UNK UNK UNK UNK UNK favorite UNK game UNK played UNK age gladly leave game night UNK would put UNK especially UNK jolly roger UNK UNK UNK UNK UNK especially worlds bowser ones stick favorites game favorite UNK UNK developing UNK UNK UNK gets go play game\n",
      "first UNK UNK five six fell UNK UNK UNK super UNK loved UNK great UNK UNK plot great UNK UNK music UNK UNK game remember plot completely think princess UNK kidnapped bowser UNK rescue UNK UNK UNK stars UNK UNK UNK UNK challnges UNK stars UNK UNK UNK get UNK UNK beat UNK UNK three UNK UNK bowser lets start characters UNK UNK character UNK helpful UNK UNK basically UNK alliances UNK UNK yoshi game UNK end main UNK UNK UNK UNK UNK boo UNK characters UNK great UNK graphics UNK say UNK important graphics UNK completely UNK plot UNK graphics UNK UNK whole UNK nintendo UNK like graphics UNK super mario bright colors great UNK awesome UNK UNK UNK UNK UNK courses good next bowser world UNK best UNK game UNK favorite UNK game UNK played young age gladly leave game night music would UNK sleep especially UNK UNK roger UNK UNK UNK others UNK especially worlds UNK UNK UNK favorites game favorite past time UNK UNK love UNK gets go UNK game\n",
      "UNK UNK n five six fell love UNK game super UNK UNK graphics UNK UNK good UNK UNK courses UNK UNK UNK UNK UNK UNK UNK completely think princess peach UNK UNK mario rescue object UNK get UNK curses UNK UNK UNK challnges UNK stars secert UNK UNK UNK stars UNK beat bowser UNK UNK UNK beat bowser lets UNK characters mario UNK UNK UNK UNK advice toad UNK UNK alliances UNK UNK UNK UNK UNK UNK main UNK bowser UNK UNK like UNK goomba UNK really UNK next graphics UNK say UNK important UNK agree UNK great plot UNK UNK especially time UNK bunch UNK UNK UNK UNK compare super UNK UNK UNK UNK effects UNK sound effects found UNK water courses good next UNK world UNK UNK graphics game UNK UNK UNK game growing played UNK UNK UNK UNK UNK night music would UNK UNK UNK music UNK roger UNK UNK UNK UNK UNK UNK UNK UNK ones stick UNK UNK favorite past UNK UNK gamer love game UNK go UNK game\n",
      "UNK got UNK UNK six fell love first game super mario loved UNK UNK time UNK plot UNK courses UNK UNK heard UNK UNK remember UNK UNK UNK UNK peach kidnapped bowser mario rescue UNK game UNK UNK curses castle UNK six challnges get stars UNK UNK castle get UNK UNK beat UNK UNK UNK levels beat UNK UNK UNK UNK mario UNK character UNK UNK UNK UNK UNK one UNK UNK luigi UNK UNK UNK end UNK UNK UNK bunch UNK UNK boo UNK UNK really great UNK graphics UNK say gameplay UNK graphics agree completely great UNK UNK UNK UNK UNK whole UNK UNK UNK like UNK UNK super mario UNK UNK great UNK awesome UNK effects UNK graphics UNK UNK good next bowser world ones best UNK game music favorite UNK game growing played young age gladly UNK game night music UNK UNK UNK especially UNK jolly roger UNK UNK UNK others great UNK worlds UNK UNK UNK UNK UNK UNK UNK UNK UNK gamer love UNK UNK go play UNK\n",
      "UNK got n UNK six UNK love UNK game UNK UNK UNK graphics UNK time UNK plot great courses UNK UNK UNK UNK game remember UNK completely UNK UNK peach kidnapped UNK UNK rescue object UNK get UNK UNK UNK UNK UNK UNK UNK stars secert parts UNK UNK UNK course beat UNK think three UNK UNK bowser lets UNK characters UNK UNK character UNK UNK UNK toad UNK UNK UNK heard UNK yoshi game UNK UNK main UNK UNK UNK characters like boo goomba UNK really great next UNK people say UNK UNK graphics agree UNK UNK plot UNK UNK especially UNK UNK UNK nintendo UNK like UNK UNK super UNK bright UNK UNK UNK awesome sound UNK UNK UNK UNK UNK good UNK bowser UNK UNK UNK UNK UNK music UNK UNK game UNK played young age UNK UNK game night music UNK put UNK especially UNK jolly roger bay UNK UNK UNK UNK UNK UNK bowser UNK UNK favorites UNK favorite past UNK UNK UNK love UNK gets go UNK UNK\n"
     ]
    }
   ],
   "source": [
    "print('Anchor: %s' % (' AND '.join(exp.names())))\n",
    "print('Precision: %.2f' % exp.precision())\n",
    "print()\n",
    "print('Examples where anchor applies and model predicts %s:' % pred)\n",
    "print()\n",
    "print('\\n'.join([x[0] for x in exp.examples(only_same_prediction=True)]))\n",
    "print()\n",
    "print('Examples where anchor applies and model predicts %s:' % alternative)\n",
    "print()\n",
    "print('\\n'.join([x[0] for x in exp.examples(only_different_prediction=True)]))"
   ]
  },
  {
   "cell_type": "code",
   "execution_count": null,
   "metadata": {},
   "outputs": [],
   "source": []
  }
 ],
 "metadata": {
  "kernelspec": {
   "display_name": "llama",
   "language": "python",
   "name": "python3"
  },
  "language_info": {
   "codemirror_mode": {
    "name": "ipython",
    "version": 3
   },
   "file_extension": ".py",
   "mimetype": "text/x-python",
   "name": "python",
   "nbconvert_exporter": "python",
   "pygments_lexer": "ipython3",
   "version": "3.9.13"
  }
 },
 "nbformat": 4,
 "nbformat_minor": 2
}
