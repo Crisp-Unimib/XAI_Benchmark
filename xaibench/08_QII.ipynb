{
 "cells": [
  {
   "cell_type": "code",
   "execution_count": 1,
   "metadata": {},
   "outputs": [
    {
     "name": "stderr",
     "output_type": "stream",
     "text": [
      "Trying to unpickle estimator LinearSVC from version 1.4.1.post1 when using version 1.4.0. This might lead to breaking code or invalid results. Use at your own risk. For more info please refer to:\n",
      "https://scikit-learn.org/stable/model_persistence.html#security-maintainability-limitations\n",
      "Trying to unpickle estimator _SigmoidCalibration from version 1.4.1.post1 when using version 1.4.0. This might lead to breaking code or invalid results. Use at your own risk. For more info please refer to:\n",
      "https://scikit-learn.org/stable/model_persistence.html#security-maintainability-limitations\n",
      "Trying to unpickle estimator CalibratedClassifierCV from version 1.4.1.post1 when using version 1.4.0. This might lead to breaking code or invalid results. Use at your own risk. For more info please refer to:\n",
      "https://scikit-learn.org/stable/model_persistence.html#security-maintainability-limitations\n",
      "Trying to unpickle estimator CountVectorizer from version 1.4.1.post1 when using version 1.4.0. This might lead to breaking code or invalid results. Use at your own risk. For more info please refer to:\n",
      "https://scikit-learn.org/stable/model_persistence.html#security-maintainability-limitations\n"
     ]
    }
   ],
   "source": [
    "from data import Imdb\n",
    "from explainers import *\n",
    "from metrics import *\n",
    "import numpy as np\n",
    "import pandas as pd\n",
    "n_features = 10\n",
    "imdb = Imdb(n_features=n_features)"
   ]
  },
  {
   "cell_type": "code",
   "execution_count": 3,
   "metadata": {},
   "outputs": [
    {
     "name": "stdout",
     "output_type": "stream",
     "text": [
      "Percent: [####################] 100% Count: 600 Approx: 74.97 | Done...\n"
     ]
    },
    {
     "data": {
      "text/plain": [
       "[('even', 0.09453888888888894),\n",
       " ('like', 0.0758194444444444),\n",
       " ('would', 0.05720277777777776),\n",
       " ('movie', 0.01913611111111111),\n",
       " ('really', 0.017127777777777787),\n",
       " ('good', -0.015174999999999994)]"
      ]
     },
     "execution_count": 3,
     "metadata": {},
     "output_type": "execute_result"
    }
   ],
   "source": [
    "exp = QIIExplainer(imdb)\n",
    "exp()"
   ]
  },
  {
   "cell_type": "code",
   "execution_count": 39,
   "metadata": {},
   "outputs": [],
   "source": [
    "from qii.qii import QII\n",
    "from qii.predictor import QIIPredictor\n",
    "from qii.qoi import QuantityOfInterest\n",
    "\n",
    "\n",
    "class LRPredictor(QIIPredictor):\n",
    "    def __init__(self, predictor):\n",
    "        super(LRPredictor, self).__init__(predictor)\n",
    "\n",
    "    def predict(self, x):\n",
    "        # predict the label for instance x\n",
    "        return self._predictor.predict(x)\n",
    "\n",
    "\n",
    "lr_predictor = LRPredictor(imdb.model)\n",
    "quantity_of_interest = QuantityOfInterest()\n",
    "qii = QII(np.array(imdb.X_vectorized.todense()),\n",
    "          n_features, quantity_of_interest)"
   ]
  },
  {
   "cell_type": "code",
   "execution_count": 58,
   "metadata": {},
   "outputs": [
    {
     "name": "stdout",
     "output_type": "stream",
     "text": [
      "Percent: [--------------------] 0% Count: 1 Approx: 0.15 | "
     ]
    },
    {
     "name": "stdout",
     "output_type": "stream",
     "text": [
      "Percent: [####################] 100% Count: 600 Approx: 70.58 | Done...\n",
      "Banzhaf: \n",
      "[('even', 0.16230000000000003), ('would', 0.05942222222222218), ('story', 0.04620277777777775), ('like', 0.021799999999999993), ('good', 0.01841111111111111), ('really', 0.009330555555555555), ('film', -0.01347777777777777), ('movie', -0.018247222222222227), ('time', -0.019927777777777766), ('one', -0.14817222222222232)]\n"
     ]
    }
   ],
   "source": [
    "x_0_idx = 42\n",
    "instance = imdb.X[x_0_idx]\n",
    "instance = imdb.vectorizer.transform([instance])\n",
    "instance = np.array(instance.todense())\n",
    "\n",
    "\n",
    "\n",
    "# Compute Shapley values\n",
    "\n",
    "banzhaf_vals = qii.compute(x_0=instance, predictor=lr_predictor,\n",
    "                           show_approx=True, evaluated_features=None,\n",
    "                           data_exhaustive=False, feature_exhaustive=False,\n",
    "                           method='banzhaf')\n",
    "# Replace feature indices with feature names\n",
    "banzhaf_vals = {imdb.feature_names[i]: banzhaf_vals[i]\n",
    "                for i in range(len(banzhaf_vals))}\n",
    "# Sort by feature importance\n",
    "banzhaf_vals = sorted(banzhaf_vals.items(), key=lambda x: x[1], reverse=True)\n",
    "print(banzhaf_vals)"
   ]
  },
  {
   "cell_type": "code",
   "execution_count": null,
   "metadata": {},
   "outputs": [],
   "source": [
    "%matplotlib inline\n",
    "from matplotlib.ticker import FuncFormatter\n",
    "import matplotlib.pyplot as plt\n",
    "import numpy as np\n",
    "\n",
    "features = range(n_features)\n",
    "influence_scores = list(banzhaf_vals.values())\n",
    "fig, ax = plt.subplots()\n",
    "plt.bar(features, influence_scores)\n",
    "plt.xticks(features, feature_names, rotation=45, ha=\"right\")\n",
    "plt.title('Shapley value of data point ' + str(x_0_idx))\n",
    "plt.show()"
   ]
  }
 ],
 "metadata": {
  "kernelspec": {
   "display_name": "venv",
   "language": "python",
   "name": "python3"
  },
  "language_info": {
   "codemirror_mode": {
    "name": "ipython",
    "version": 3
   },
   "file_extension": ".py",
   "mimetype": "text/x-python",
   "name": "python",
   "nbconvert_exporter": "python",
   "pygments_lexer": "ipython3",
   "version": "3.9.13"
  }
 },
 "nbformat": 4,
 "nbformat_minor": 2
}
