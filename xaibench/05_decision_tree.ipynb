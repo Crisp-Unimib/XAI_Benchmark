{
 "cells": [
  {
   "cell_type": "code",
   "execution_count": 1,
   "metadata": {},
   "outputs": [],
   "source": [
    "import pandas as pd\n",
    "\n",
    "df = pd.read_csv('predictions/imdb_pred.csv')"
   ]
  },
  {
   "cell_type": "code",
   "execution_count": 2,
   "metadata": {},
   "outputs": [],
   "source": [
    "from sklearn.model_selection import train_test_split\n",
    "from sklearn.feature_extraction.text import TfidfVectorizer, CountVectorizer\n",
    "import pandas as pd\n",
    "\n",
    "max_features=10000\n",
    "\n",
    "# Splitting the data into train and test sets\n",
    "X = df['text']\n",
    "y = df['prediction']\n",
    "\n",
    "# X_train_text, X_test_text, y_train, y_test = train_test_split(X, y, test_size=0.2, random_state=42)\n",
    "\n",
    "# Initialize TF-IDF vectorizer\n",
    "count_vectorizer = CountVectorizer(max_features=max_features)\n",
    "\n",
    "# Fit and transform the text data\n",
    "X_vector = count_vectorizer.fit_transform(X)\n",
    "feature_names = count_vectorizer.get_feature_names_out()"
   ]
  },
  {
   "cell_type": "code",
   "execution_count": 27,
   "metadata": {},
   "outputs": [],
   "source": [
    "from sklearn.tree import _tree\n",
    "import numpy as np\n",
    "\n",
    "def get_rules(tree, feature_names, class_names=None):\n",
    "    tree_ = tree.tree_\n",
    "    feature_name = [\n",
    "        feature_names[i] if i != _tree.TREE_UNDEFINED else \"undefined!\"\n",
    "        for i in tree_.feature\n",
    "    ]\n",
    "\n",
    "    def traverse_nodes(node, current_rule, rules):\n",
    "        if tree_.feature[node] != _tree.TREE_UNDEFINED:\n",
    "            name = feature_name[node]\n",
    "            threshold = tree_.threshold[node]\n",
    "            left_child = tree_.children_left[node]\n",
    "            right_child = tree_.children_right[node]\n",
    "\n",
    "            # Add condition for the left child\n",
    "            left_rule = f\"{name} <= {threshold:.3f}\"\n",
    "            traverse_nodes(left_child, current_rule + [left_rule], rules)\n",
    "\n",
    "            # Add condition for the right child\n",
    "            right_rule = f\"{name} > {threshold:.3f}\"\n",
    "            traverse_nodes(right_child, current_rule + [right_rule], rules)\n",
    "        else:\n",
    "            # Leaf node\n",
    "            rule = {\n",
    "                'rule': ' & '.join(current_rule),\n",
    "                'samples': int(tree_.n_node_samples[node])\n",
    "            }\n",
    "            if class_names:\n",
    "                class_id = np.argmax(tree_.value[node])\n",
    "                class_name = class_names[class_id]\n",
    "                rule['class'] = class_name\n",
    "            else:\n",
    "                rule['response'] = tree_.value[node]\n",
    "            rules.append(rule)\n",
    "\n",
    "    rules = []\n",
    "    traverse_nodes(0, [], rules)\n",
    "    return rules\n",
    "\n"
   ]
  },
  {
   "cell_type": "code",
   "execution_count": 30,
   "metadata": {},
   "outputs": [
    {
     "name": "stdout",
     "output_type": "stream",
     "text": [
      "{'rule': 'worst <= 0.500 & bad <= 0.500 & waste <= 0.500 & great <= 0.500 & awful <= 0.500 & boring <= 0.500 & terrible <= 0.500 & excellent <= 0.500 & poor <= 0.500 & lame <= 0.500', 'samples': 3930, 'class': 1}\n",
      "{'rule': 'worst <= 0.500 & bad <= 0.500 & waste <= 0.500 & great <= 0.500 & awful <= 0.500 & boring <= 0.500 & terrible <= 0.500 & excellent <= 0.500 & poor <= 0.500 & lame > 0.500', 'samples': 64, 'class': 0}\n",
      "{'rule': 'worst <= 0.500 & bad <= 0.500 & waste <= 0.500 & great <= 0.500 & awful <= 0.500 & boring <= 0.500 & terrible <= 0.500 & excellent <= 0.500 & poor > 0.500', 'samples': 197, 'class': 0}\n",
      "{'rule': 'worst <= 0.500 & bad <= 0.500 & waste <= 0.500 & great <= 0.500 & awful <= 0.500 & boring <= 0.500 & terrible <= 0.500 & excellent > 0.500', 'samples': 325, 'class': 1}\n",
      "{'rule': 'worst <= 0.500 & bad <= 0.500 & waste <= 0.500 & great <= 0.500 & awful <= 0.500 & boring <= 0.500 & terrible > 0.500', 'samples': 154, 'class': 0}\n",
      "{'rule': 'worst <= 0.500 & bad <= 0.500 & waste <= 0.500 & great <= 0.500 & awful <= 0.500 & boring > 0.500', 'samples': 217, 'class': 0}\n",
      "{'rule': 'worst <= 0.500 & bad <= 0.500 & waste <= 0.500 & great <= 0.500 & awful > 0.500', 'samples': 190, 'class': 0}\n",
      "{'rule': 'worst <= 0.500 & bad <= 0.500 & waste <= 0.500 & great > 0.500 & awful <= 0.500 & boring <= 0.500 & annoying <= 0.500 & terrible <= 0.500', 'samples': 1607, 'class': 1}\n",
      "{'rule': 'worst <= 0.500 & bad <= 0.500 & waste <= 0.500 & great > 0.500 & awful <= 0.500 & boring <= 0.500 & annoying <= 0.500 & terrible > 0.500', 'samples': 44, 'class': 0}\n",
      "{'rule': 'worst <= 0.500 & bad <= 0.500 & waste <= 0.500 & great > 0.500 & awful <= 0.500 & boring <= 0.500 & annoying > 0.500', 'samples': 31, 'class': 0}\n",
      "{'rule': 'worst <= 0.500 & bad <= 0.500 & waste <= 0.500 & great > 0.500 & awful <= 0.500 & boring > 0.500', 'samples': 77, 'class': 0}\n",
      "{'rule': 'worst <= 0.500 & bad <= 0.500 & waste <= 0.500 & great > 0.500 & awful > 0.500', 'samples': 46, 'class': 0}\n",
      "{'rule': 'worst <= 0.500 & bad <= 0.500 & waste > 0.500', 'samples': 262, 'class': 0}\n",
      "{'rule': 'worst <= 0.500 & bad > 0.500 & great <= 0.500 & bad <= 1.500 & best <= 0.500 & awful <= 0.500 & waste <= 0.500', 'samples': 702, 'class': 0}\n",
      "{'rule': 'worst <= 0.500 & bad > 0.500 & great <= 0.500 & bad <= 1.500 & best <= 0.500 & awful <= 0.500 & waste > 0.500', 'samples': 66, 'class': 0}\n",
      "{'rule': 'worst <= 0.500 & bad > 0.500 & great <= 0.500 & bad <= 1.500 & best <= 0.500 & awful > 0.500', 'samples': 76, 'class': 0}\n",
      "{'rule': 'worst <= 0.500 & bad > 0.500 & great <= 0.500 & bad <= 1.500 & best > 0.500', 'samples': 179, 'class': 1}\n",
      "{'rule': 'worst <= 0.500 & bad > 0.500 & great <= 0.500 & bad > 1.500', 'samples': 451, 'class': 0}\n",
      "{'rule': 'worst <= 0.500 & bad > 0.500 & great > 0.500', 'samples': 515, 'class': 1}\n",
      "{'rule': 'worst > 0.500', 'samples': 867, 'class': 0}\n"
     ]
    }
   ],
   "source": [
    "from sklearn.tree import DecisionTreeClassifier\n",
    "\n",
    "decision_tree = DecisionTreeClassifier(max_leaf_nodes=20, max_depth=10)\n",
    "decision_tree.fit(X_vector, y)\n",
    "\n",
    "rules = get_rules(decision_tree, feature_names, [0,1])\n",
    "for r in rules:\n",
    "    print(r)"
   ]
  }
 ],
 "metadata": {
  "kernelspec": {
   "display_name": "llama",
   "language": "python",
   "name": "python3"
  },
  "language_info": {
   "codemirror_mode": {
    "name": "ipython",
    "version": 3
   },
   "file_extension": ".py",
   "mimetype": "text/x-python",
   "name": "python",
   "nbconvert_exporter": "python",
   "pygments_lexer": "ipython3",
   "version": "3.9.16"
  }
 },
 "nbformat": 4,
 "nbformat_minor": 2
}
