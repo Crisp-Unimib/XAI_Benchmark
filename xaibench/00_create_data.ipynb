{
 "cells": [
  {
   "cell_type": "markdown",
   "metadata": {},
   "source": [
    "### imdb"
   ]
  },
  {
   "cell_type": "code",
   "execution_count": 1,
   "metadata": {},
   "outputs": [
    {
     "name": "stderr",
     "output_type": "stream",
     "text": [
      "[nltk_data] Downloading package wordnet to /Users/lorenzo/nltk_data...\n",
      "[nltk_data] Downloading package stopwords to\n",
      "[nltk_data]     /Users/lorenzo/nltk_data...\n",
      "[nltk_data]   Unzipping corpora/stopwords.zip.\n",
      "[nltk_data] Downloading package omw-1.4 to /Users/lorenzo/nltk_data...\n"
     ]
    },
    {
     "data": {
      "text/plain": [
       "True"
      ]
     },
     "execution_count": 1,
     "metadata": {},
     "output_type": "execute_result"
    }
   ],
   "source": [
    "import nltk\n",
    "nltk.download('wordnet')\n",
    "nltk.download('stopwords')\n",
    "nltk.download('omw-1.4')"
   ]
  },
  {
   "cell_type": "code",
   "execution_count": 16,
   "metadata": {},
   "outputs": [],
   "source": [
    "import os\n",
    "import pandas as pd\n",
    "\n",
    "# Function to read text files and assign labels\n",
    "def read_files_and_labels(folder_path, label):\n",
    "    data = []\n",
    "    for filename in os.listdir(folder_path):\n",
    "        with open(os.path.join(folder_path, filename), 'r', encoding='utf-8') as file:\n",
    "            text = file.read()\n",
    "            data.append({'text': text, 'target': label})\n",
    "    return data\n",
    "\n",
    "# Paths to train and test folders\n",
    "train_pos_path = \"raw_data/imdb/train/pos\"\n",
    "train_neg_path = \"raw_data/imdb/train/neg\"\n",
    "test_pos_path = \"raw_data/imdb/test/pos\"\n",
    "test_neg_path = \"raw_data/imdb/test/neg\"\n",
    "\n",
    "# Read files and assign labels\n",
    "train_pos_data = read_files_and_labels(train_pos_path, 1)\n",
    "train_neg_data = read_files_and_labels(train_neg_path, 0)\n",
    "test_pos_data = read_files_and_labels(test_pos_path, 1)\n",
    "test_neg_data = read_files_and_labels(test_neg_path, 0)\n",
    "\n",
    "# Concatenate train and test data\n",
    "data = train_pos_data + train_neg_data + test_pos_data + test_neg_data\n",
    "\n",
    "# Create pandas DataFrame\n",
    "df = pd.DataFrame(data)\n",
    "\n",
    "# # Optionally, you can shuffle the DataFrame\n",
    "# df = df.sample(frac=1).reset_index(drop=True)\n",
    "\n",
    "# Preprocessing\n",
    "df['text'] = df.text.str.replace('<.*?>', '', regex=True)  #remove html tags\n",
    "df['text'] = df.text.str.lower().str.replace('[^a-z\\s]', ' ', regex=True).str.replace('\\s+',' ',regex=True) #lowercase, remove symbols and numbers\n",
    "# df['text'] = df.text.str.lower().str.replace('[^\\w\\s]', ' ', regex=True)     #uncomment to keep numbers\n",
    "\n",
    "# remove stopwords\n",
    "from nltk.corpus import stopwords\n",
    "stop = stopwords.words('english')\n",
    "sentences = []\n",
    "for row in df['text']:\n",
    "    sentences.append(' '.join([item for item in row.split() if item not in stop]))\n",
    "df['text'] = sentences\n",
    "\n",
    "df.to_csv('data/imdb.csv', index=None)"
   ]
  },
  {
   "cell_type": "markdown",
   "metadata": {},
   "source": [
    "### 20 newsgroup"
   ]
  },
  {
   "cell_type": "code",
   "execution_count": 3,
   "metadata": {},
   "outputs": [
    {
     "ename": "FileNotFoundError",
     "evalue": "[Errno 2] No such file or directory: 'raw_data/20ng'",
     "output_type": "error",
     "traceback": [
      "\u001b[0;31m---------------------------------------------------------------------------\u001b[0m",
      "\u001b[0;31mFileNotFoundError\u001b[0m                         Traceback (most recent call last)",
      "Cell \u001b[0;32mIn[3], line 13\u001b[0m\n\u001b[1;32m     10\u001b[0m groups \u001b[38;5;241m=\u001b[39m []\n\u001b[1;32m     12\u001b[0m \u001b[38;5;66;03m# Iterate through files in the directory\u001b[39;00m\n\u001b[0;32m---> 13\u001b[0m \u001b[38;5;28;01mfor\u001b[39;00m filename \u001b[38;5;129;01min\u001b[39;00m \u001b[43mos\u001b[49m\u001b[38;5;241;43m.\u001b[39;49m\u001b[43mlistdir\u001b[49m\u001b[43m(\u001b[49m\u001b[43mdata_dir\u001b[49m\u001b[43m)\u001b[49m:\n\u001b[1;32m     14\u001b[0m     \u001b[38;5;66;03m# Extract the class name from the filename\u001b[39;00m\n\u001b[1;32m     15\u001b[0m     group_name \u001b[38;5;241m=\u001b[39m filename\u001b[38;5;241m.\u001b[39msplit(\u001b[38;5;124m'\u001b[39m\u001b[38;5;124m.\u001b[39m\u001b[38;5;124m'\u001b[39m)[\u001b[38;5;241m-\u001b[39m\u001b[38;5;241m2\u001b[39m]  \u001b[38;5;66;03m# Extract the second last part of the filename\u001b[39;00m\n\u001b[1;32m     17\u001b[0m     \u001b[38;5;66;03m# Read the content of the file\u001b[39;00m\n",
      "\u001b[0;31mFileNotFoundError\u001b[0m: [Errno 2] No such file or directory: 'raw_data/20ng'"
     ]
    }
   ],
   "source": [
    "import os\n",
    "import pandas as pd\n",
    "\n",
    "# Define the directory containing the data\n",
    "data_dir = 'raw_data/20ng'\n",
    "\n",
    "# Initialize lists to store data\n",
    "texts = []\n",
    "targets = []\n",
    "groups = []\n",
    "\n",
    "# Iterate through files in the directory\n",
    "for filename in os.listdir(data_dir):\n",
    "    # Extract the class name from the filename\n",
    "    group_name = filename.split('.')[-2]  # Extract the second last part of the filename\n",
    "    \n",
    "    # Read the content of the file\n",
    "    with open(os.path.join(data_dir, filename), 'r', encoding='utf-8') as file:\n",
    "        text = file.read()\n",
    "    \n",
    "    # Append data to respective lists\n",
    "    texts.append(text)\n",
    "    targets.append((len(groups) % 20) + 1)  # Modulus operation to ensure targets range from 1 to 20\n",
    "    groups.append(group_name)\n",
    "\n",
    "# Create a DataFrame\n",
    "df_20ng = pd.DataFrame({'text': texts, 'target': targets, 'group': groups})\n",
    "\n",
    "# Display the DataFrame\n",
    "print(df_20ng.head())\n"
   ]
  },
  {
   "cell_type": "code",
   "execution_count": null,
   "metadata": {},
   "outputs": [],
   "source": []
  }
 ],
 "metadata": {
  "kernelspec": {
   "display_name": "lorenv",
   "language": "python",
   "name": "python3"
  },
  "language_info": {
   "codemirror_mode": {
    "name": "ipython",
    "version": 3
   },
   "file_extension": ".py",
   "mimetype": "text/x-python",
   "name": "python",
   "nbconvert_exporter": "python",
   "pygments_lexer": "ipython3",
   "version": "3.9.16"
  }
 },
 "nbformat": 4,
 "nbformat_minor": 2
}
