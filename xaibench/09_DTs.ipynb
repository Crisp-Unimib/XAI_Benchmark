{
 "cells": [
  {
   "cell_type": "code",
   "execution_count": 1,
   "metadata": {},
   "outputs": [
    {
     "name": "stderr",
     "output_type": "stream",
     "text": [
      "Trying to unpickle estimator LinearSVC from version 1.4.1.post1 when using version 1.4.0. This might lead to breaking code or invalid results. Use at your own risk. For more info please refer to:\n",
      "https://scikit-learn.org/stable/model_persistence.html#security-maintainability-limitations\n",
      "Trying to unpickle estimator _SigmoidCalibration from version 1.4.1.post1 when using version 1.4.0. This might lead to breaking code or invalid results. Use at your own risk. For more info please refer to:\n",
      "https://scikit-learn.org/stable/model_persistence.html#security-maintainability-limitations\n",
      "Trying to unpickle estimator CalibratedClassifierCV from version 1.4.1.post1 when using version 1.4.0. This might lead to breaking code or invalid results. Use at your own risk. For more info please refer to:\n",
      "https://scikit-learn.org/stable/model_persistence.html#security-maintainability-limitations\n",
      "Trying to unpickle estimator CountVectorizer from version 1.4.1.post1 when using version 1.4.0. This might lead to breaking code or invalid results. Use at your own risk. For more info please refer to:\n",
      "https://scikit-learn.org/stable/model_persistence.html#security-maintainability-limitations\n"
     ]
    }
   ],
   "source": [
    "\n",
    "import numpy as np\n",
    "import pandas as pd\n",
    "from chefboost import Chefboost as chef\n",
    "\n",
    "from data import Imdb\n",
    "from explainers import *\n",
    "from metrics import *\n",
    "imdb = Imdb(n_features=10)"
   ]
  },
  {
   "cell_type": "code",
   "execution_count": 2,
   "metadata": {},
   "outputs": [
    {
     "name": "stdout",
     "output_type": "stream",
     "text": [
      "[INFO]:  6 CPU cores will be allocated in parallel running\n",
      "WARNING: You set the algorithm to  C4.5  but the Decision column of your data set has non-object type.\n",
      "That's why, the algorithm is set to Regression to handle the data set.\n",
      "Regression  tree is going to be built...\n",
      "-------------------------\n",
      "finished in  60.40174651145935  seconds\n",
      "-------------------------\n",
      "Evaluate  train set\n",
      "-------------------------\n",
      "MAE:  0.12605666666666668\n",
      "MSE:  0.1259583333333333\n",
      "RMSE:  0.354906090865363\n",
      "RAE:  0.4736124430228618\n",
      "RRSE:  0.7152504078847485\n",
      "Mean:  0.56154\n",
      "MAE / Mean:  22.448385986157117 %\n",
      "RMSE / Mean:  63.202281380732096 %\n"
     ]
    }
   ],
   "source": [
    "exp = C45Explainer(imdb)"
   ]
  },
  {
   "cell_type": "code",
   "execution_count": 5,
   "metadata": {},
   "outputs": [
    {
     "ename": "KeyboardInterrupt",
     "evalue": "",
     "output_type": "error",
     "traceback": [
      "\u001b[1;31m---------------------------------------------------------------------------\u001b[0m",
      "\u001b[1;31mKeyboardInterrupt\u001b[0m                         Traceback (most recent call last)",
      "Cell \u001b[1;32mIn[5], line 4\u001b[0m\n\u001b[0;32m      1\u001b[0m \u001b[38;5;66;03m# exp.explainer.predict(imdb.X_vectorized[0:20])\u001b[39;00m\n\u001b[0;32m      3\u001b[0m metric \u001b[38;5;241m=\u001b[39m RuleCoverageMetric(imdb, exp)\n\u001b[1;32m----> 4\u001b[0m \u001b[43mmetric\u001b[49m\u001b[43m(\u001b[49m\u001b[43m)\u001b[49m\n",
      "File \u001b[1;32mc:\\Users\\andre\\Documents\\xai_benchmark\\xaibench\\metrics\\RuleCoverageMetric.py:79\u001b[0m, in \u001b[0;36mRuleCoverageMetric.__call__\u001b[1;34m(self, instance)\u001b[0m\n\u001b[0;32m     77\u001b[0m \u001b[38;5;28;01melse\u001b[39;00m:\n\u001b[0;32m     78\u001b[0m     rules \u001b[38;5;241m=\u001b[39m \u001b[38;5;28mself\u001b[39m\u001b[38;5;241m.\u001b[39mexplainer()\n\u001b[1;32m---> 79\u001b[0m     coverage \u001b[38;5;241m=\u001b[39m \u001b[43mfind_coverage\u001b[49m\u001b[43m(\u001b[49m\u001b[43mrules\u001b[49m\u001b[43m)\u001b[49m\n\u001b[0;32m     81\u001b[0m \u001b[38;5;28;01mreturn\u001b[39;00m coverage\n",
      "File \u001b[1;32mc:\\Users\\andre\\Documents\\xai_benchmark\\xaibench\\metrics\\RuleCoverageMetric.py:66\u001b[0m, in \u001b[0;36mRuleCoverageMetric.__call__.<locals>.find_coverage\u001b[1;34m(rules)\u001b[0m\n\u001b[0;32m     64\u001b[0m \u001b[38;5;28;01mfor\u001b[39;00m instance, vectorized \u001b[38;5;129;01min\u001b[39;00m \u001b[38;5;28mzip\u001b[39m(\u001b[38;5;28mself\u001b[39m\u001b[38;5;241m.\u001b[39mdataset\u001b[38;5;241m.\u001b[39mX, \u001b[38;5;28mself\u001b[39m\u001b[38;5;241m.\u001b[39mdataset\u001b[38;5;241m.\u001b[39mX_vectorized):\n\u001b[0;32m     65\u001b[0m     \u001b[38;5;28;01mfor\u001b[39;00m rule \u001b[38;5;129;01min\u001b[39;00m rules:\n\u001b[1;32m---> 66\u001b[0m         \u001b[38;5;28;01mif\u001b[39;00m \u001b[38;5;28;43mself\u001b[39;49m\u001b[38;5;241;43m.\u001b[39;49m\u001b[43mcheck_rule_applies\u001b[49m\u001b[43m(\u001b[49m\u001b[43mrule\u001b[49m\u001b[43m,\u001b[49m\u001b[43m \u001b[49m\u001b[43mvectorized\u001b[49m\u001b[43m)\u001b[49m:\n\u001b[0;32m     67\u001b[0m             covered_instances\u001b[38;5;241m.\u001b[39madd(instance)\n\u001b[0;32m     68\u001b[0m             \u001b[38;5;28;01mbreak\u001b[39;00m  \u001b[38;5;66;03m# Stop checking if at least one rule applies\u001b[39;00m\n",
      "File \u001b[1;32mc:\\Users\\andre\\Documents\\xai_benchmark\\xaibench\\metrics\\RuleCoverageMetric.py:50\u001b[0m, in \u001b[0;36mRuleCoverageMetric.check_rule_applies\u001b[1;34m(self, rule, instance)\u001b[0m\n\u001b[0;32m     47\u001b[0m     threshold \u001b[38;5;241m=\u001b[39m \u001b[38;5;28mfloat\u001b[39m(threshold)\n\u001b[0;32m     49\u001b[0m     \u001b[38;5;66;03m# Evaluate the condition and update the mask\u001b[39;00m\n\u001b[1;32m---> 50\u001b[0m     feature_index \u001b[38;5;241m=\u001b[39m \u001b[43mnp\u001b[49m\u001b[38;5;241;43m.\u001b[39;49m\u001b[43mwhere\u001b[49m\u001b[43m(\u001b[49m\n\u001b[0;32m     51\u001b[0m \u001b[43m        \u001b[49m\u001b[38;5;28;43mself\u001b[39;49m\u001b[38;5;241;43m.\u001b[39;49m\u001b[43mdataset\u001b[49m\u001b[38;5;241;43m.\u001b[39;49m\u001b[43mfeature_names\u001b[49m\u001b[43m \u001b[49m\u001b[38;5;241;43m==\u001b[39;49m\u001b[43m \u001b[49m\u001b[43mfeature_name\u001b[49m\u001b[43m)\u001b[49m\u001b[43m[\u001b[49m\u001b[38;5;241;43m0\u001b[39;49m\u001b[43m]\u001b[49m\u001b[43m[\u001b[49m\u001b[38;5;241;43m0\u001b[39;49m\u001b[43m]\u001b[49m\n\u001b[0;32m     52\u001b[0m     applies \u001b[38;5;241m&\u001b[39m\u001b[38;5;241m=\u001b[39m (instance[feature_index] \u001b[38;5;241m<\u001b[39m\u001b[38;5;241m=\u001b[39m threshold) \u001b[38;5;28;01mif\u001b[39;00m comparison_op \u001b[38;5;241m==\u001b[39m \u001b[38;5;124m'\u001b[39m\u001b[38;5;124m<=\u001b[39m\u001b[38;5;124m'\u001b[39m \u001b[38;5;28;01melse\u001b[39;00m (\n\u001b[0;32m     53\u001b[0m         instance[feature_index] \u001b[38;5;241m>\u001b[39m threshold)\n\u001b[0;32m     54\u001b[0m \u001b[38;5;28;01mreturn\u001b[39;00m applies\n",
      "\u001b[1;31mKeyboardInterrupt\u001b[0m: "
     ]
    }
   ],
   "source": [
    "\n",
    "\n",
    "# exp.explainer.predict(imdb.X_vectorized[0:20])\n",
    "\n",
    "metric = RuleCoverageMetric(imdb, exp)\n",
    "metric()"
   ]
  },
  {
   "cell_type": "code",
   "execution_count": 7,
   "metadata": {},
   "outputs": [
    {
     "name": "stdout",
     "output_type": "stream",
     "text": [
      "[INFO]:  6 CPU cores will be allocated in parallel running\n",
      "WARNING: You set the algorithm to  C4.5  but the Decision column of your data set has non-object type.\n",
      "That's why, the algorithm is set to Regression to handle the data set.\n",
      "Regression  tree is going to be built...\n",
      "-------------------------\n",
      "finished in  74.39164137840271  seconds\n",
      "-------------------------\n",
      "Evaluate  train set\n",
      "-------------------------\n",
      "MAE:  0.12605666666666668\n",
      "MSE:  0.1259583333333333\n",
      "RMSE:  0.354906090865363\n",
      "RAE:  0.4736124430228618\n",
      "RRSE:  0.7152504078847485\n",
      "Mean:  0.56154\n",
      "MAE / Mean:  22.448385986157117 %\n",
      "RMSE / Mean:  63.202281380732096 %\n"
     ]
    }
   ],
   "source": [
    "data = pd.DataFrame(imdb.X_vectorized.todense(),\n",
    "                    columns=imdb.feature_names)\n",
    "data['target'] = imdb.y_predicted\n",
    "config = {'algorithm': 'C4.5'}\n",
    "exp = chef.fit(data, config=config, target_label='target')"
   ]
  },
  {
   "cell_type": "code",
   "execution_count": 8,
   "metadata": {},
   "outputs": [
    {
     "name": "stdout",
     "output_type": "stream",
     "text": [
      "Decision rule:  outputs/rules/rules.py\n",
      "[('good', 0.204979502049795), ('time', 0.17848215178482152), ('really', 0.13758624137586242), ('one', 0.13368663133686634), ('film', 0.1311868813118688), ('like', 0.09989001099890012), ('would', 0.07139286071392861), ('story', 0.028597140285971403), ('movie', 0.019398060193980604), ('even', -0.0051994800519948)]\n"
     ]
    }
   ],
   "source": [
    "rules = chef.feature_importance('outputs/rules/rules.py')\n",
    "feature_importances = []\n",
    "for feature, rule in zip(rules['feature'], rules['importance']):\n",
    "    feature_importances.append((feature, rule))\n",
    "print(feature_importances)"
   ]
  },
  {
   "cell_type": "code",
   "execution_count": 20,
   "metadata": {},
   "outputs": [
    {
     "data": {
      "text/plain": [
       "0"
      ]
     },
     "execution_count": 20,
     "metadata": {},
     "output_type": "execute_result"
    }
   ],
   "source": [
    "module_name = 'outputs/rules/rules'\n",
    "tree = chef.restoreTree(module_name)\n",
    "tree.findDecision(imdb.X_vectorized[0].toarray()[0])"
   ]
  }
 ],
 "metadata": {
  "kernelspec": {
   "display_name": "venv",
   "language": "python",
   "name": "python3"
  },
  "language_info": {
   "codemirror_mode": {
    "name": "ipython",
    "version": 3
   },
   "file_extension": ".py",
   "mimetype": "text/x-python",
   "name": "python",
   "nbconvert_exporter": "python",
   "pygments_lexer": "ipython3",
   "version": "3.9.13"
  }
 },
 "nbformat": 4,
 "nbformat_minor": 2
}
